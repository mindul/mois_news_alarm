{
 "cells": [
  {
   "cell_type": "code",
   "execution_count": null,
   "metadata": {},
   "outputs": [],
   "source": [
    "# 행정안전부 보도자료 알람\n",
    "# Python 3\n",
    "# 2019. 9. 15.\n",
    "\n",
    "import requests\n",
    "import urllib\n",
    "import urllib3\n",
    "from bs4 import BeautifulSoup\n",
    "from urllib.request import urlopen\n",
    "\n",
    "urllib3.disable_warnings()\n",
    "http = urllib3.PoolManager()\n",
    "\n",
    "url = \"https://www.mois.go.kr/frt/bbs/type010/commonSelectBoardList.do?bbsId=BBSMSTR_000000000008\"\n",
    "# telegram url(change your bot API token)\n",
    "Teleg_URL = \"https://api.telegram.org/bot230190712:AGHTKGdIVC134_8Gi1GYUsvHx87BlpOeyS3/sendMessage?chat_id=65796221&text=\"\n",
    "DOMAIN = '\\nhttps://www.mois.go.kr'\n",
    "\n",
    "filename = 'LatestNoMois.txt'\n",
    "\n",
    "# 2차원 배열(box) 선언과 초기화\n",
    "box = [['','',''],['','',''],['','',''],['','',''],['','',''],['','',''],['','',''],['','',''],['','',''],['','','']]\n"
   ]
  },
  {
   "cell_type": "code",
   "execution_count": null,
   "metadata": {},
   "outputs": [],
   "source": [
    "def PutTheLatestNo():\n",
    "    \n",
    "    params = {\n",
    "        \"nttId\": 0,\n",
    "        \"bbsTyCode\": \"BBST03\",\n",
    "        \"bbsAttrbCode\": \"BBSA03\",\n",
    "        \"authFlag\": \"Y\",\n",
    "        \"pageIndex\": \"1\",\n",
    "        \"cal_url\": \"/sym/cal/EgovNormalCalPopup.do\",\n",
    "        \"searchCnd\": 0,\n",
    "    }\n",
    "    \n",
    "    response = requests.post(url, params)\n",
    "    dom = BeautifulSoup(response.content, \"html.parser\")\n",
    "    elements = dom.select(\".table_style1.mobile > tbody > tr\")\n",
    "    \n",
    "    LastNo = elements[0].select_one(\"td\").text.strip()\n",
    "    \n",
    "    output_file = open(filename, 'w')\n",
    "    output_file.write(LastNo)"
   ]
  },
  {
   "cell_type": "code",
   "execution_count": null,
   "metadata": {},
   "outputs": [],
   "source": [
    "# 파일에 저장된 게시물 번호 가져오기\n",
    "def GetTheNoFromFile():\n",
    "\n",
    "    input_file = open(filename, 'r')\n",
    "    fileNo = input_file.readline()\n",
    "    input_file.close()\n",
    "    \n",
    "    return(fileNo)"
   ]
  },
  {
   "cell_type": "code",
   "execution_count": null,
   "metadata": {},
   "outputs": [],
   "source": [
    "# 텔레그램으로 알람 보내기\n",
    "def SendMessage( strTitle, article_URL ):\n",
    "\n",
    "    target_URL = DOMAIN + article_URL\n",
    "    strTelMsg = '{}{}{}{}'.format( Teleg_URL, urllib.parse.quote(\"[행정안전부 보도자료]\\n \"), urllib.parse.quote(strTitle), urllib.parse.quote(target_URL))\n",
    "\n",
    "    http.request('GET', strTelMsg).data"
   ]
  },
  {
   "cell_type": "code",
   "execution_count": null,
   "metadata": {},
   "outputs": [],
   "source": [
    "# 첫 페이지를 box 리스트에 넣기\n",
    "def news_table():\n",
    "\n",
    "    params = {\n",
    "        \"nttId\": 0,\n",
    "        \"bbsTyCode\": \"BBST03\",\n",
    "        \"bbsAttrbCode\": \"BBSA03\",\n",
    "        \"authFlag\": \"Y\",\n",
    "        \"pageIndex\": \"1\",\n",
    "        \"cal_url\": \"/sym/cal/EgovNormalCalPopup.do\",\n",
    "        \"searchCnd\": 0,\n",
    "    }\n",
    "    \n",
    "    response = requests.post(url, params)\n",
    "    dom = BeautifulSoup(response.content, \"html.parser\")\n",
    "    elements = dom.select(\".table_style1.mobile > tbody > tr\")\n",
    "\n",
    "    # 파일에 저장된 번호 읽어오기\n",
    "    NoFromFile = GetTheNoFromFile()\n",
    "    \n",
    "    i = 0\n",
    "    \n",
    "    for element in elements:\n",
    "  \n",
    "        box[i][0] = element.select_one(\"td\").text.strip()\n",
    "        box[i][1] = element.select_one(\"a\").text\n",
    "        box[i][2] = element.select_one(\"a\").get(\"href\")\n",
    "\n",
    "        i = i + 1\n",
    "    \n",
    "    # 최신 게시물이라면 텔레그램으로 메시지 발송\n",
    "    for j in range(0, 10):\n",
    "        if int(box[j][0]) > int(NoFromFile):  # 최신 게시물인지 비교\n",
    "            # resp = box[j][1].find(keyword)\n",
    "            #if resp > 0:\n",
    "            # print(\"Found!\")\n",
    "            SendMessage(box[j][1], box[j][2]) # 제목, URL 발사!          "
   ]
  },
  {
   "cell_type": "code",
   "execution_count": null,
   "metadata": {},
   "outputs": [],
   "source": [
    "# 메인 함수\n",
    "news_table()\n",
    "PutTheLatestNo()"
   ]
  },
  {
   "cell_type": "code",
   "execution_count": null,
   "metadata": {},
   "outputs": [],
   "source": []
  }
 ],
 "metadata": {
  "kernelspec": {
   "display_name": "Python 3",
   "language": "python",
   "name": "python3"
  },
  "language_info": {
   "codemirror_mode": {
    "name": "ipython",
    "version": 3
   },
   "file_extension": ".py",
   "mimetype": "text/x-python",
   "name": "python",
   "nbconvert_exporter": "python",
   "pygments_lexer": "ipython3",
   "version": "3.6.4"
  }
 },
 "nbformat": 4,
 "nbformat_minor": 2
}
